{
 "cells": [
  {
   "cell_type": "code",
   "execution_count": 32,
   "id": "528715e2-8c60-432f-9d1e-5c3e09868909",
   "metadata": {},
   "outputs": [
    {
     "name": "stdout",
     "output_type": "stream",
     "text": [
      "[[139, 198]]\n",
      "[[146, 224]]\n",
      "[[140, 198]]\n"
     ]
    }
   ],
   "source": [
    "import cv2 \n",
    "import numpy as np\n",
    "def process(img):\n",
    "    blurred = cv2.GaussianBlur(img,(5,5),1)\n",
    "    canny = cv2.Canny(blurred,200,200)\n",
    "    kernel = np.ones((5,5))\n",
    "    dilated = cv2.dilate(canny,kernel,iterations=2)\n",
    "    eroded = cv2.erode(dilated,kernel,iterations=1)\n",
    "    return eroded\n",
    "\n",
    "def contours(img):\n",
    "    biggest_area = np.array([])\n",
    "    max_area = 0\n",
    "    contours,hierarchy = cv2.findContours(img,cv2.RETR_EXTERNAL,cv2.CHAIN_APPROX_NONE)\n",
    "    for cnt in contours:\n",
    "        area = cv2.contourArea(cnt)\n",
    "        if area > 50: \n",
    "            peri = cv2.arcLength(cnt,False)\n",
    "            approx = cv2.approxPolyDP(cnt,0.20*peri,False)\n",
    "            if area > max_area and len(approx) == 3:\n",
    "                biggest_area = approx\n",
    "                max_area = area\n",
    "    cv2.drawContours(img_conture,cnt,-1,(255,0,200),2)\n",
    "    cv2.drawContours(og,cnt,-1,(255,0,200),2)            \n",
    "    return biggest_area        \n",
    " \n",
    "\n",
    "path = r\"C:\\Users\\aaara\\Upload\\GIT HUB\\Screenshot 2024-09-04 221848.png\"\n",
    "main = cv2.imread(path)\n",
    "og = main\n",
    "img = main\n",
    "img_hsv=cv2.cvtColor(img, cv2.COLOR_BGR2HSV)\n",
    "lower_red = np.array([0,50,50]) #example value\n",
    "upper_red = np.array([10,255,255]) #example value\n",
    "mask = cv2.inRange(img_hsv, lower_red, upper_red)\n",
    "img_result = cv2.bitwise_and(img, img, mask=mask)\n",
    "frame = img_result\n",
    "final = process(frame)\n",
    "big = contours(final)\n",
    "coordinate = big.tolist()\n",
    "point_1 = coordinate[0]\n",
    "point_2 = coordinate[1]\n",
    "point_3 = coordinate[2]\n",
    "print(point_1)\n",
    "print(point_2)\n",
    "print(point_3)"
   ]
  },
  {
   "cell_type": "code",
   "execution_count": 20,
   "id": "28a40554-968a-456a-a6b8-a28e67fe3e96",
   "metadata": {},
   "outputs": [
    {
     "name": "stdout",
     "output_type": "stream",
     "text": [
      "142.5     211.0\n",
      "final angle    =  105\n"
     ]
    }
   ],
   "source": [
    "\n",
    "import math as m\n",
    "\n",
    "def calculate_angle(x1, y1, x2, y2):\n",
    "    midpoint_x = (x1 + x2) / 2\n",
    "    midpoint_y = (y1 + y2) / 2\n",
    "    print(midpoint_x, midpoint_y, sep=\"     \")\n",
    "    slope_perpendicular = (x2 - x1) / (y2 - y1)\n",
    "    slope_final = round(m.degrees(m.atan(slope_perpendicular)) + 90)\n",
    "    print('final angle    = ', slope_final)\n",
    "\n",
    "calculate_angle(139, 198, 146, 224)"
   ]
  }
 ],
 "metadata": {
  "kernelspec": {
   "display_name": "Python 3 (ipykernel)",
   "language": "python",
   "name": "python3"
  },
  "language_info": {
   "codemirror_mode": {
    "name": "ipython",
    "version": 3
   },
   "file_extension": ".py",
   "mimetype": "text/x-python",
   "name": "python",
   "nbconvert_exporter": "python",
   "pygments_lexer": "ipython3",
   "version": "3.12.4"
  }
 },
 "nbformat": 4,
 "nbformat_minor": 5
}
