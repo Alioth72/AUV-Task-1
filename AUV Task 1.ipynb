{
 "cells": [
  {
   "cell_type": "code",
   "execution_count": 16,
   "id": "292546ca-8af8-4d1c-ad93-21f14088cad9",
   "metadata": {},
   "outputs": [
    {
     "name": "stdout",
     "output_type": "stream",
     "text": [
      "[[139, 198]]\n",
      "[[146, 224]]\n",
      "[[140, 198]]\n"
     ]
    }
   ],
   "source": [
    "import cv2 \n",
    "import numpy as np\n",
    "import math\n",
    "\n",
    "\n",
    "\n",
    "def process(img):\n",
    "    img_grey = img # cv2.cvtColor(img,cv2.COLOR_BGR2GRAY)\n",
    "    img_blur = cv2.GaussianBlur(img_grey,(5,5),1)\n",
    "    img_canny = cv2.Canny(img_blur,200,200)\n",
    "    kernel = np.ones((5,5))\n",
    "    img_dialation = cv2.dilate(img_canny,kernel,iterations=2)\n",
    "    img_erode = cv2.erode(img_dialation,kernel,iterations=1)\n",
    "    img_lafinale = img_erode\n",
    "    return img_lafinale\n",
    "\n",
    "def get_contours(img):\n",
    "    biggest_area = np.array([])\n",
    "    max_area = 0\n",
    "    contours,hierarchy = cv2.findContours(img,cv2.RETR_EXTERNAL,cv2.CHAIN_APPROX_NONE)\n",
    "    for cnt in contours:\n",
    "        area = cv2.contourArea(cnt)\n",
    "        if area > 50: \n",
    "            #cv2.drawContours(img_conture,cnt,-1,(255,0,200),3)\n",
    "            peri = cv2.arcLength(cnt,False)\n",
    "            approx = cv2.approxPolyDP(cnt,0.22*peri,False)\n",
    "            if area > max_area and len(approx) == 3:\n",
    "                biggest_area = approx\n",
    "                max_area = area\n",
    "    cv2.drawContours(img_conture,cnt,-1,(255,0,200),2)\n",
    "    cv2.drawContours(og,cnt,-1,(255,0,200),2)            \n",
    "    return biggest_area        \n",
    "\n",
    "# def drawings(x1,y1,x2,y2,color=(0,0,0)):\n",
    "#     cv2.line(og, (x1, y1), (x2, y2), color, thickness=10)\n",
    "def average(xa,xb):\n",
    "    p = (xa+xb)/2\n",
    "    return(p)   \n",
    "\n",
    "path = r\"C:\\Users\\aaara\\Downloads\\Screenshot 2024-09-04 221848.png\"\n",
    "\n",
    "main = cv2.imread(path)\n",
    "og = main\n",
    "img = main\n",
    "img_hsv=cv2.cvtColor(img, cv2.COLOR_BGR2HSV)\n",
    "lower_red = np.array([0,50,50]) #example value\n",
    "upper_red = np.array([10,255,255]) #example value\n",
    "mask = cv2.inRange(img_hsv, lower_red, upper_red)\n",
    "img_result = cv2.bitwise_and(img, img, mask=mask)\n",
    "frame = img_result\n",
    "img_conture = frame.copy()\n",
    "frame = process(frame)\n",
    "big = get_contours(frame)\n",
    "coordinate = big.tolist()\n",
    "point_1 = coordinate[0]\n",
    "point_2 = coordinate[1]\n",
    "point_3 = coordinate[2]\n",
    "print(point_1)\n",
    "print(point_2)\n",
    "print(point_3)\n",
    "\n",
    "\n",
    "\n",
    "\n",
    "\n",
    " \n",
    " "
   ]
  },
  {
   "cell_type": "code",
   "execution_count": 14,
   "id": "b2cc2896-f0cb-449c-a0c5-ee1d7f4a9063",
   "metadata": {},
   "outputs": [
    {
     "name": "stdout",
     "output_type": "stream",
     "text": [
      "142.5     211.0\n",
      "final angle    =  105\n"
     ]
    }
   ],
   "source": [
    "import math\n",
    "\n",
    "def calculate_angle(x1, y1, x2, y2):\n",
    "    midpoint_x = (x1 + x2) / 2\n",
    "    midpoint_y = (y1 + y2) / 2\n",
    "    print(midpoint_x, midpoint_y, sep=\"     \")\n",
    "    slope_perpendicular = (x2 - x1) / (y2 - y1)\n",
    "    x = 0\n",
    "    y = ((x - midpoint_x) * slope_perpendicular) - midpoint_y\n",
    "    slope_final = round(m.degrees(m.atan(slope_perpendicular)) + 90)\n",
    "    print('final angle    = ', slope_final)\n",
    "\n",
    "calculate_angle(139,198,146,224)\n",
    "\n"
   ]
  },
  {
   "cell_type": "code",
   "execution_count": null,
   "id": "7c41937d-2894-4aa1-8c2b-750b05e41540",
   "metadata": {},
   "outputs": [],
   "source": []
  }
 ],
 "metadata": {
  "kernelspec": {
   "display_name": "Python 3 (ipykernel)",
   "language": "python",
   "name": "python3"
  },
  "language_info": {
   "codemirror_mode": {
    "name": "ipython",
    "version": 3
   },
   "file_extension": ".py",
   "mimetype": "text/x-python",
   "name": "python",
   "nbconvert_exporter": "python",
   "pygments_lexer": "ipython3",
   "version": "3.12.4"
  }
 },
 "nbformat": 4,
 "nbformat_minor": 5
}
